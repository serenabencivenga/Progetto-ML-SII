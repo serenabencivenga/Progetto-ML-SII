{
 "cells": [
  {
   "cell_type": "code",
   "execution_count": 1,
   "metadata": {},
   "outputs": [],
   "source": [
    "#IN QUESTO IPYNB VIENE GESTITA LA FASE DI ADDESTRAMENTO DEL DATA SET\n",
    "#DOBBIAMO FAR SI CHE LE IMMAGINI SIANO TUTTI DELLE STESSE DIMENSIONI\n",
    "#IL COLORE DELL'IMMAGINE NON è IMPORTANTE QUINDI TUTTE LE IMMAGINI VENGO DEFINITE IN BIANCO E NERO \n",
    "\n",
    "\n",
    "#ABBIAMO A DISPOSIZIONE UNA CARTELLA CON MIGLIAIA DI IMMAGINI. UNA PARTE UTILIZZATA PER L'ADDESTRAMENTO \n",
    "#L'ALTRA PER IL TESTING \n",
    "\n",
    "\n",
    "#UNA VOLTA EFFETTUATE LE OPERAZIONI SUL DATASET, ESSO PUò ESSERE PASSATO ALLE RETI NEURALI PER LA CLASSIFICAZIONE."
   ]
  },
  {
   "cell_type": "code",
   "execution_count": 2,
   "metadata": {},
   "outputs": [
    {
     "data": {
      "text/plain": [
       "<Figure size 640x480 with 1 Axes>"
      ]
     },
     "metadata": {},
     "output_type": "display_data"
    }
   ],
   "source": [
    "import numpy as np\n",
    "import matplotlib.pyplot as plt\n",
    "import os\n",
    "import cv2\n",
    "from tqdm import tqdm\n",
    "\n",
    "DATADIR = 'C:\\Windows\\System32\\Deep-Learning-master\\dogs_breed_classification\\Data\\PetImages'\n",
    "\n",
    "CATEGORIES = [\"Dog\", \"Cat\"]\n",
    "\n",
    "for category in CATEGORIES:  \n",
    "    path = os.path.join(DATADIR,category)  \n",
    "    for img in os.listdir(path):  #ITERAZIONE PER OGNI CANE E PER OGNI GATTO\n",
    "        img_array = cv2.imread(os.path.join(path,img) ,cv2.IMREAD_GRAYSCALE)  # CONVERZIONE ARRAY\n",
    "        plt.imshow(img_array, cmap='gray')  # PASSAGGIO DALL'IMMAGINI A COLORI A BIANCO E NERO\n",
    "        plt.show()  # VISUALIZZAZIONE\n",
    "\n",
    "        break  \n",
    "    break \n",
    "\n"
   ]
  },
  {
   "cell_type": "code",
   "execution_count": 3,
   "metadata": {},
   "outputs": [
    {
     "name": "stdout",
     "output_type": "stream",
     "text": [
      "[[189 189 189 ...  29  29  31]\n",
      " [186 186 186 ...  36  35  36]\n",
      " [184 185 185 ...  35  33  33]\n",
      " ...\n",
      " [168 169 170 ...  71  72  72]\n",
      " [169 170 171 ...  68  67  67]\n",
      " [168 169 170 ...  64  63  62]]\n"
     ]
    }
   ],
   "source": [
    "print(img_array)"
   ]
  },
  {
   "cell_type": "code",
   "execution_count": 4,
   "metadata": {},
   "outputs": [
    {
     "name": "stdout",
     "output_type": "stream",
     "text": [
      "(398, 500)\n"
     ]
    }
   ],
   "source": [
    "print(img_array.shape)"
   ]
  },
  {
   "cell_type": "code",
   "execution_count": null,
   "metadata": {},
   "outputs": [],
   "source": []
  },
  {
   "cell_type": "code",
   "execution_count": 5,
   "metadata": {},
   "outputs": [
    {
     "data": {
      "image/png": "[encoded data removed]",
      "text/plain": [
       "<Figure size 432x288 with 1 Axes>"
      ]
     },
     "metadata": {
      "needs_background": "light"
     },
     "output_type": "display_data"
    }
   ],
   "source": [
    "IMG_SIZE = 50\n",
    "\n",
    "new_array = cv2.resize(img_array, (IMG_SIZE, IMG_SIZE))\n",
    "plt.imshow(new_array, cmap='gray')\n",
    "plt.show()"
   ]
  },
  {
   "cell_type": "code",
   "execution_count": 6,
   "metadata": {},
   "outputs": [
    {
     "data": {
      "image/png": "[encoded data removed]",
      "text/plain": [
       "<Figure size 432x288 with 1 Axes>"
      ]
     },
     "metadata": {
      "needs_background": "light"
     },
     "output_type": "display_data"
    }
   ],
   "source": [
    "new_array = cv2.resize(img_array, (IMG_SIZE, IMG_SIZE))\n",
    "plt.imshow(new_array, cmap='gray')\n",
    "plt.show()"
   ]
  },
  {
   "cell_type": "code",
   "execution_count": 7,
   "metadata": {},
   "outputs": [
    {
     "name": "stderr",
     "output_type": "stream",
     "text": [
      "100%|████████████████████████████████████████████████████████████████████████████| 12485/12485 [04:43<00:00, 44.06it/s]\n",
      "100%|████████████████████████████████████████████████████████████████████████████| 12485/12485 [10:33<00:00,  6.01it/s]\n"
     ]
    },
    {
     "name": "stdout",
     "output_type": "stream",
     "text": [
      "24914\n"
     ]
    }
   ],
   "source": [
    "training_data = []\n",
    "\n",
    "def create_training_data():\n",
    "    for category in CATEGORIES: \n",
    "\n",
    "        path = os.path.join(DATADIR,category)  \n",
    "        class_num = CATEGORIES.index(category)  #0=DOG 1=CAT\n",
    "\n",
    "        for img in tqdm(os.listdir(path)): \n",
    "            try:\n",
    "                img_array = cv2.imread(os.path.join(path,img) ,cv2.IMREAD_GRAYSCALE) \n",
    "                new_array = cv2.resize(img_array, (IMG_SIZE, IMG_SIZE))  \n",
    "                training_data.append([new_array, class_num])  \n",
    "            except Exception as e:  \n",
    "                pass\n",
    "            #except OSError as e:\n",
    "            #    print(\"OSErrroBad img most likely\", e, os.path.join(path,img))\n",
    "            #except Exception as e:\n",
    "            #    print(\"general exception\", e, os.path.join(path,img))\n",
    "\n",
    "create_training_data()\n",
    "\n",
    "print(len(training_data))"
   ]
  },
  {
   "cell_type": "code",
   "execution_count": 8,
   "metadata": {},
   "outputs": [],
   "source": [
    "import random\n",
    "\n",
    "random.shuffle(training_data)"
   ]
  },
  {
   "cell_type": "code",
   "execution_count": 9,
   "metadata": {},
   "outputs": [
    {
     "name": "stdout",
     "output_type": "stream",
     "text": [
      "1\n",
      "1\n",
      "0\n",
      "1\n",
      "0\n",
      "0\n",
      "1\n",
      "0\n",
      "1\n",
      "0\n"
     ]
    }
   ],
   "source": [
    "for sample in training_data[:10]:\n",
    "    print(sample[1])"
   ]
  },
  {
   "cell_type": "code",
   "execution_count": 10,
   "metadata": {},
   "outputs": [
    {
     "name": "stdout",
     "output_type": "stream",
     "text": [
      "[[[[ 58]\n",
      "   [ 25]\n",
      "   [ 49]\n",
      "   ...\n",
      "   [  6]\n",
      "   [  3]\n",
      "   [  5]]\n",
      "\n",
      "  [[ 54]\n",
      "   [124]\n",
      "   [ 80]\n",
      "   ...\n",
      "   [  2]\n",
      "   [  3]\n",
      "   [ 12]]\n",
      "\n",
      "  [[ 82]\n",
      "   [ 37]\n",
      "   [ 40]\n",
      "   ...\n",
      "   [  2]\n",
      "   [  3]\n",
      "   [ 13]]\n",
      "\n",
      "  ...\n",
      "\n",
      "  [[170]\n",
      "   [182]\n",
      "   [182]\n",
      "   ...\n",
      "   [206]\n",
      "   [203]\n",
      "   [215]]\n",
      "\n",
      "  [[171]\n",
      "   [177]\n",
      "   [171]\n",
      "   ...\n",
      "   [211]\n",
      "   [213]\n",
      "   [215]]\n",
      "\n",
      "  [[169]\n",
      "   [174]\n",
      "   [168]\n",
      "   ...\n",
      "   [209]\n",
      "   [215]\n",
      "   [220]]]]\n"
     ]
    }
   ],
   "source": [
    "X = []\n",
    "y = []\n",
    "\n",
    "for features,label in training_data:\n",
    "    X.append(features)\n",
    "    y.append(label)\n",
    "\n",
    "print(X[0].reshape(-1, IMG_SIZE, IMG_SIZE, 1))\n",
    "\n",
    "X = np.array(X).reshape(-1, IMG_SIZE, IMG_SIZE, 1)"
   ]
  },
  {
   "cell_type": "code",
   "execution_count": 11,
   "metadata": {},
   "outputs": [],
   "source": [
    "import pickle\n",
    "\n",
    "pickle_out = open(\"X.pickle\",\"wb\")\n",
    "pickle.dump(X, pickle_out)\n",
    "pickle_out.close()\n",
    "\n",
    "pickle_out = open(\"y.pickle\",\"wb\")\n",
    "pickle.dump(y, pickle_out)\n",
    "pickle_out.close()"
   ]
  },
  {
   "cell_type": "code",
   "execution_count": 12,
   "metadata": {},
   "outputs": [],
   "source": [
    "pickle_in = open(\"X.pickle\",\"rb\")\n",
    "X = pickle.load(pickle_in)\n",
    "\n",
    "pickle_in = open(\"y.pickle\",\"rb\")\n",
    "y = pickle.load(pickle_in)"
   ]
  },
  {
   "cell_type": "code",
   "execution_count": null,
   "metadata": {},
   "outputs": [],
   "source": []
  }
 ],
 "metadata": {
  "kernelspec": {
   "display_name": "Python 3",
   "language": "python",
   "name": "python3"
  },
  "language_info": {
   "codemirror_mode": {
    "name": "ipython",
    "version": 3
   },
   "file_extension": ".py",
   "mimetype": "text/x-python",
   "name": "python",
   "nbconvert_exporter": "python",
   "pygments_lexer": "ipython3",
   "version": "3.6.7"
  }
 },
 "nbformat": 4,
 "nbformat_minor": 2
}
